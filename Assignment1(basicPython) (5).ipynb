{
  "nbformat": 4,
  "nbformat_minor": 0,
  "metadata": {
    "colab": {
      "provenance": []
    },
    "kernelspec": {
      "name": "python3",
      "display_name": "Python 3"
    },
    "language_info": {
      "name": "python"
    }
  },
  "cells": [
    {
      "cell_type": "markdown",
      "source": [
        "Q1--What is Python, and why is it popular?\n",
        "\n",
        "Ans-Python is the programming language.it is popular because it is easy to learn,versatile, and large community of user.It's used in many industries, including data science, web development,artificial intelligence,machine learning.\n",
        "\n",
        "Q2--What is an interpreter in Python?\n",
        "\n",
        "Ans-it is virtual part in python language which is allow to programmer to run the script and intract with the language.\n",
        "\n",
        "Q3-- What are pre-defined keywords in Python?\n",
        "\n",
        "Ans-Pre-defined keywords is a word having special meaning reserved by programming language.like\n",
        "False   assert  del  for   in   or   while   None  break  elif  from  is   pass   with   True   class  else  global  lamda etc.\n",
        "\n",
        "Q4-- Can keywords be used as variable names?\n",
        "\n",
        "Ans-keywords can not be used as variable because keywords having special meaning.\n",
        "\n",
        "Q5-- What is mutability in Python?\n",
        "\n",
        "Ans-it refers to the change the value and state of the object.\n",
        "\n",
        "Q6-- Why are lists mutable, but tuples are immutable?\n",
        "\n",
        "Ans-tuples are immutable because they are design for represent the fix collection of data set. but lists are mutable because it is not for fix collection of data. list data can be change.\n",
        "\n",
        "Q7-- What is the difference between “==” and “is” operators in Python?\n",
        "\n",
        "Ans-\"==\" -> it check the value of object is equal or not , \"is\" -> it check the two variable points the same of object in the mamory or not.\n",
        "\n",
        "Q8-- What are logical operators in Python?\n",
        "\n",
        "Ans-logical operators are used to perform logical operations on Boolean values, which are either True or False. there are three type of operators and, or nad not.\n",
        "\n",
        "Q9-- What is type casting in Python?\n",
        "Ans-the process of changing a variable's data type to another data type in Python.example\n",
        "n=11111\n",
        "b=str(n)\n",
        "c=list(b)\n",
        "\n",
        "Q10-- What is the difference between implicit and explicit type casting?\n",
        "\n",
        "Ans-implicit type casting-> it occurs when python automatically converts one data type to another without use of any code.\n",
        "a=56   (int)\n",
        "b=5.6  (float)\n",
        "c=a+b\n",
        "print(c) (output comes in float)\n",
        "\n",
        "Explicit type casting -> it involves converting a data type using predefined functions like float(), str(),int(), etc\n",
        "a=\"12345\"\n",
        "b=int(a)   (converting string into integer using int() function)\n",
        "\n",
        "Q11-- What is the purpose of conditional statements in Python?\n",
        "\n",
        "Ans-conditional statements control the flow of program by making dicision.conditional statements determine which block of code execute based on value of condition.\n",
        "\n",
        "Q12-- How does the elif statement work?\n",
        "\n",
        "Ans-elif statement use to check the multiple condition in the program.if if statement is false, then moves to the elif statement to check the condition is true.\n",
        "\n",
        "Q13-- What is the difference between for and while loops?\n",
        "\n",
        "Ans-For loop: Repeats a block of code a known number of times.\n",
        "syntex of for loop:\n",
        "for i(memory location variable) in sequence(or range()):\n",
        "<statements>\n",
        "    \n",
        "While loop: Repeats a block of code an unknown number of times, until a condition is true.\n",
        "syntex of while loop:\n",
        "while condition:\n",
        "<statements>\n",
        "\n",
        "Q14-- Describe a scenario where a while loop is more suitable than a for loop.\n",
        "\n",
        "Ans-While loop-->While loop is used when the number of iterations is not known in advance or when we want to repeat a block of code until a certain condition is met.\n",
        "While the loop requires an initial condition that is tested at the beginning of the loop.\n",
        "    \n",
        "for loop-- For loops are designed for iterating over a sequence of items. Eg. list, tuple, etc  \n"
      ],
      "metadata": {
        "id": "_KhzXaca1VIy"
      }
    },
    {
      "cell_type": "markdown",
      "source": [],
      "metadata": {
        "id": "IXO6-2v3K6bT"
      }
    },
    {
      "cell_type": "code",
      "source": [
        "## Write a Python program to print \"Hello, World!\n",
        "\n",
        "print(\"Hello,World\")"
      ],
      "metadata": {
        "colab": {
          "base_uri": "https://localhost:8080/"
        },
        "id": "u07OvH2omi4H",
        "outputId": "d3c3431b-66b7-446f-8a31-aaf932d67f5a"
      },
      "execution_count": 1,
      "outputs": [
        {
          "output_type": "stream",
          "name": "stdout",
          "text": [
            "Hello,World\n"
          ]
        }
      ]
    },
    {
      "cell_type": "code",
      "source": [
        "## Write a Python program that displays your name and age.\n",
        "Name=\"Anupam Dubey\"\n",
        "Age=\"28\"\n",
        "print(\"My name is\",Name,\"And age\",Age)\n"
      ],
      "metadata": {
        "colab": {
          "base_uri": "https://localhost:8080/"
        },
        "id": "bQCuA-_GnBky",
        "outputId": "92b95148-57e3-4e8d-d002-08a6164f0807"
      },
      "execution_count": 2,
      "outputs": [
        {
          "output_type": "stream",
          "name": "stdout",
          "text": [
            "My name is Anupam Dubey And age 28\n"
          ]
        }
      ]
    },
    {
      "cell_type": "code",
      "source": [
        "## Write code to print all the pre-defined keywords in Python using the keyword library.\n",
        "import keyword\n",
        "print(keyword.kwlist)"
      ],
      "metadata": {
        "colab": {
          "base_uri": "https://localhost:8080/"
        },
        "id": "DTneb9uBnoM8",
        "outputId": "5c0daa44-c66a-421a-d317-408690282ec0"
      },
      "execution_count": 18,
      "outputs": [
        {
          "output_type": "stream",
          "name": "stdout",
          "text": [
            "['False', 'None', 'True', 'and', 'as', 'assert', 'async', 'await', 'break', 'class', 'continue', 'def', 'del', 'elif', 'else', 'except', 'finally', 'for', 'from', 'global', 'if', 'import', 'in', 'is', 'lambda', 'nonlocal', 'not', 'or', 'pass', 'raise', 'return', 'try', 'while', 'with', 'yield']\n"
          ]
        }
      ]
    },
    {
      "cell_type": "code",
      "source": [
        "##Write a program that checks if a given word is a Python keyword.\n",
        "import keyword\n",
        "s=input(\"Enter the word\")\n",
        "if keyword.iskeyword(s):\n",
        "    print(f\"'{s}' is a Python keyword.\")\n",
        "else:\n",
        "    print(f\"'{s}' is not a Python keyword.\")"
      ],
      "metadata": {
        "colab": {
          "base_uri": "https://localhost:8080/"
        },
        "id": "W73kmpAmoogM",
        "outputId": "807fdc1b-9309-4574-e3b1-d3ad5c2979e6"
      },
      "execution_count": 7,
      "outputs": [
        {
          "output_type": "stream",
          "name": "stdout",
          "text": [
            "Enter the wordis\n",
            "'is' is a Python keyword.\n"
          ]
        }
      ]
    },
    {
      "cell_type": "code",
      "source": [
        "\"\"\"Create a list and tuple in Python, and demonstrate how attempting to change an element works differently\n",
        "for each\"\"\"\n",
        "## for list\n",
        "print(\"list demonstration\")\n",
        "lst=[5,1,2,3,8,6,7,4]\n",
        "print(\"list before change\",lst)\n",
        "lst[0]=0\n",
        "print(\"list after change\",lst)\n",
        "\n",
        "## for tuple\n",
        "print(\"tuple demonstration\")\n",
        "tup=(5,1,8,9,7,6)\n",
        "print(\"tuple before change\",tup)\n",
        "tup[0]=0\n",
        "print(\"tuple after change\",tup)\n"
      ],
      "metadata": {
        "colab": {
          "base_uri": "https://localhost:8080/",
          "height": 280
        },
        "id": "Wl_TsY7Spw9T",
        "outputId": "0bae73c2-7b13-47b4-c614-5aeea82171a2"
      },
      "execution_count": 12,
      "outputs": [
        {
          "output_type": "stream",
          "name": "stdout",
          "text": [
            "list demonstration\n",
            "list before change [5, 1, 2, 3, 8, 6, 7, 4]\n",
            "list after change [0, 1, 2, 3, 8, 6, 7, 4]\n",
            "tuple demonstration\n",
            "tuple before change (5, 1, 8, 9, 7, 6)\n"
          ]
        },
        {
          "output_type": "error",
          "ename": "TypeError",
          "evalue": "'tuple' object does not support item assignment",
          "traceback": [
            "\u001b[0;31m---------------------------------------------------------------------------\u001b[0m",
            "\u001b[0;31mTypeError\u001b[0m                                 Traceback (most recent call last)",
            "\u001b[0;32m<ipython-input-12-d1a7646c4b07>\u001b[0m in \u001b[0;36m<cell line: 14>\u001b[0;34m()\u001b[0m\n\u001b[1;32m     12\u001b[0m \u001b[0mtup\u001b[0m\u001b[0;34m=\u001b[0m\u001b[0;34m(\u001b[0m\u001b[0;36m5\u001b[0m\u001b[0;34m,\u001b[0m\u001b[0;36m1\u001b[0m\u001b[0;34m,\u001b[0m\u001b[0;36m8\u001b[0m\u001b[0;34m,\u001b[0m\u001b[0;36m9\u001b[0m\u001b[0;34m,\u001b[0m\u001b[0;36m7\u001b[0m\u001b[0;34m,\u001b[0m\u001b[0;36m6\u001b[0m\u001b[0;34m)\u001b[0m\u001b[0;34m\u001b[0m\u001b[0;34m\u001b[0m\u001b[0m\n\u001b[1;32m     13\u001b[0m \u001b[0mprint\u001b[0m\u001b[0;34m(\u001b[0m\u001b[0;34m\"tuple before change\"\u001b[0m\u001b[0;34m,\u001b[0m\u001b[0mtup\u001b[0m\u001b[0;34m)\u001b[0m\u001b[0;34m\u001b[0m\u001b[0;34m\u001b[0m\u001b[0m\n\u001b[0;32m---> 14\u001b[0;31m \u001b[0mtup\u001b[0m\u001b[0;34m[\u001b[0m\u001b[0;36m0\u001b[0m\u001b[0;34m]\u001b[0m\u001b[0;34m=\u001b[0m\u001b[0;36m0\u001b[0m\u001b[0;34m\u001b[0m\u001b[0;34m\u001b[0m\u001b[0m\n\u001b[0m\u001b[1;32m     15\u001b[0m \u001b[0mprint\u001b[0m\u001b[0;34m(\u001b[0m\u001b[0;34m\"tuple after change\"\u001b[0m\u001b[0;34m,\u001b[0m\u001b[0mtup\u001b[0m\u001b[0;34m)\u001b[0m\u001b[0;34m\u001b[0m\u001b[0;34m\u001b[0m\u001b[0m\n",
            "\u001b[0;31mTypeError\u001b[0m: 'tuple' object does not support item assignment"
          ]
        }
      ]
    },
    {
      "cell_type": "code",
      "source": [
        "## Write a function to demonstrate the behavior of mutable and immutable arguments.\n",
        "## for list\n",
        "print(\"list is mutable\")\n",
        "lst=[5,1,2,3,8,6,7,4]\n",
        "print(\"list before change\",lst)\n",
        "lst[0]=0                    ## change the value\n",
        "lst.append(9)               ## add a element\n",
        "print(\"list after change\",lst)\n",
        "\n",
        "## for tuple\n",
        "print(\"tuple is immutable than it gives error\")\n",
        "tup=(5,1,8,9,7,6)\n",
        "print(\"tuple before change\",tup)\n",
        "tup[0]=0\n",
        "print(\"tuple after change\",tup)\n"
      ],
      "metadata": {
        "colab": {
          "base_uri": "https://localhost:8080/",
          "height": 280
        },
        "id": "Bq46UYuxq6Ka",
        "outputId": "f990e87e-e65f-4a6f-907f-6b0c0f9e4b93"
      },
      "execution_count": 14,
      "outputs": [
        {
          "output_type": "stream",
          "name": "stdout",
          "text": [
            "list is mutable\n",
            "list before change [5, 1, 2, 3, 8, 6, 7, 4]\n",
            "list after change [0, 1, 2, 3, 8, 6, 7, 4, 9]\n",
            "tuple is immutable than it gives error\n",
            "tuple before change (5, 1, 8, 9, 7, 6)\n"
          ]
        },
        {
          "output_type": "error",
          "ename": "TypeError",
          "evalue": "'tuple' object does not support item assignment",
          "traceback": [
            "\u001b[0;31m---------------------------------------------------------------------------\u001b[0m",
            "\u001b[0;31mTypeError\u001b[0m                                 Traceback (most recent call last)",
            "\u001b[0;32m<ipython-input-14-d17b2ccfa524>\u001b[0m in \u001b[0;36m<cell line: 14>\u001b[0;34m()\u001b[0m\n\u001b[1;32m     12\u001b[0m \u001b[0mtup\u001b[0m\u001b[0;34m=\u001b[0m\u001b[0;34m(\u001b[0m\u001b[0;36m5\u001b[0m\u001b[0;34m,\u001b[0m\u001b[0;36m1\u001b[0m\u001b[0;34m,\u001b[0m\u001b[0;36m8\u001b[0m\u001b[0;34m,\u001b[0m\u001b[0;36m9\u001b[0m\u001b[0;34m,\u001b[0m\u001b[0;36m7\u001b[0m\u001b[0;34m,\u001b[0m\u001b[0;36m6\u001b[0m\u001b[0;34m)\u001b[0m\u001b[0;34m\u001b[0m\u001b[0;34m\u001b[0m\u001b[0m\n\u001b[1;32m     13\u001b[0m \u001b[0mprint\u001b[0m\u001b[0;34m(\u001b[0m\u001b[0;34m\"tuple before change\"\u001b[0m\u001b[0;34m,\u001b[0m\u001b[0mtup\u001b[0m\u001b[0;34m)\u001b[0m\u001b[0;34m\u001b[0m\u001b[0;34m\u001b[0m\u001b[0m\n\u001b[0;32m---> 14\u001b[0;31m \u001b[0mtup\u001b[0m\u001b[0;34m[\u001b[0m\u001b[0;36m0\u001b[0m\u001b[0;34m]\u001b[0m\u001b[0;34m=\u001b[0m\u001b[0;36m0\u001b[0m\u001b[0;34m\u001b[0m\u001b[0;34m\u001b[0m\u001b[0m\n\u001b[0m\u001b[1;32m     15\u001b[0m \u001b[0mprint\u001b[0m\u001b[0;34m(\u001b[0m\u001b[0;34m\"tuple after change\"\u001b[0m\u001b[0;34m,\u001b[0m\u001b[0mtup\u001b[0m\u001b[0;34m)\u001b[0m\u001b[0;34m\u001b[0m\u001b[0;34m\u001b[0m\u001b[0m\n",
            "\u001b[0;31mTypeError\u001b[0m: 'tuple' object does not support item assignment"
          ]
        }
      ]
    },
    {
      "cell_type": "code",
      "source": [
        "## Write a program to demonstrate the use of logical operators.\n",
        "\n",
        "a, b, c = True, False, True\n",
        "\n",
        "# AND: Both conditions must be True\n",
        "if a and c:\n",
        "    print(\"Both a and c are True.\")\n",
        "\n",
        "# OR: At least one condition must be True\n",
        "if b or c:\n",
        "    print(\"Either b or c is True.\")\n",
        "\n",
        "# NOT: Reverses the condition\n",
        "if not b:\n",
        "    print(\"b is False.\")"
      ],
      "metadata": {
        "colab": {
          "base_uri": "https://localhost:8080/"
        },
        "id": "LUu1tYKWtJAZ",
        "outputId": "641f0952-69c0-420e-d526-d00235a8f06e"
      },
      "execution_count": 17,
      "outputs": [
        {
          "output_type": "stream",
          "name": "stdout",
          "text": [
            "Both a and c are True.\n",
            "Either b or c is True.\n",
            "b is False.\n"
          ]
        }
      ]
    },
    {
      "cell_type": "code",
      "source": [
        " ## Write a Python program to convert user input from string to integer, float, and boolean types.\n",
        " a=input(\"inter a number\")\n",
        " b=int(a)\n",
        " c=float(a)\n",
        " d=bool(a)\n",
        " print(\"input string\",a)\n",
        " print(\"In integer\",b,type(b))\n",
        " print(\"In float\",c,type(c))\n",
        " print(\"In boolean\",d,type(d))\n"
      ],
      "metadata": {
        "colab": {
          "base_uri": "https://localhost:8080/"
        },
        "id": "pO3QTcL0uFr0",
        "outputId": "a2b144c3-9bfe-416a-b299-a026dd87ed61"
      },
      "execution_count": 20,
      "outputs": [
        {
          "output_type": "stream",
          "name": "stdout",
          "text": [
            "inter a number895\n",
            "input string 895\n",
            "In integer 895 <class 'int'>\n",
            "In float 895.0 <class 'float'>\n",
            "In boolean True <class 'bool'>\n"
          ]
        }
      ]
    },
    {
      "cell_type": "code",
      "source": [
        "## Write code to demonstrate type casting with list elements.\n",
        "\n",
        "a=\"56897589\"\n",
        "print(\"Given String\",a,type(a))\n",
        "b=list(a)               ## type casting in list\n",
        "print(\"After type casting in list\",b,type(b))\n"
      ],
      "metadata": {
        "colab": {
          "base_uri": "https://localhost:8080/"
        },
        "id": "j9_Y1kyWwSMM",
        "outputId": "803303ff-e8f6-44b0-bc7a-d6eac9820900"
      },
      "execution_count": 22,
      "outputs": [
        {
          "output_type": "stream",
          "name": "stdout",
          "text": [
            "Given String 56897589 <class 'str'>\n",
            "After type casting in list ['5', '6', '8', '9', '7', '5', '8', '9'] <class 'list'>\n"
          ]
        }
      ]
    },
    {
      "cell_type": "code",
      "source": [
        "## Write a program that checks if a number is positive, negative, or zero.\n",
        "num=int(input(\"Enter a Number\"))\n",
        "if num<0:\n",
        "  print(\"Number is nagetive\")\n",
        "elif num==0:\n",
        "  print(\"Number is zero\")\n",
        "else:\n",
        "  print(\"Number is Positive\")"
      ],
      "metadata": {
        "colab": {
          "base_uri": "https://localhost:8080/"
        },
        "id": "KtBlmVXexRR5",
        "outputId": "e6f25ba1-16ed-4d23-a313-d6278ea8b623"
      },
      "execution_count": 23,
      "outputs": [
        {
          "output_type": "stream",
          "name": "stdout",
          "text": [
            "Enter a Number-56\n",
            "Number is nagetive\n"
          ]
        }
      ]
    },
    {
      "cell_type": "code",
      "source": [
        "## Write a for loop to print numbers from 1 to 10.\n",
        "for i in range(1,11):\n",
        "  print(i)"
      ],
      "metadata": {
        "colab": {
          "base_uri": "https://localhost:8080/"
        },
        "id": "AwN0jhW-yBfL",
        "outputId": "e15b9ef9-d362-4bfa-e452-10ac77ef1ee9"
      },
      "execution_count": 24,
      "outputs": [
        {
          "output_type": "stream",
          "name": "stdout",
          "text": [
            "1\n",
            "2\n",
            "3\n",
            "4\n",
            "5\n",
            "6\n",
            "7\n",
            "8\n",
            "9\n",
            "10\n"
          ]
        }
      ]
    },
    {
      "cell_type": "code",
      "source": [],
      "metadata": {
        "colab": {
          "base_uri": "https://localhost:8080/"
        },
        "collapsed": true,
        "id": "83d4-kC8y8C3",
        "outputId": "96903f4e-388c-4036-de49-f1dc6250bdf5"
      },
      "execution_count": 66,
      "outputs": [
        {
          "output_type": "stream",
          "name": "stdout",
          "text": [
            "mapunA\n"
          ]
        }
      ]
    },
    {
      "cell_type": "code",
      "source": [
        "## Write a Python program to find the sum of all even numbers between 1 and 50.\n",
        "Sum1=0\n",
        "for i in range(1,50):\n",
        "  if i%2==0:\n",
        "    Sum1=Sum1+i\n",
        "print(Sum1)"
      ],
      "metadata": {
        "colab": {
          "base_uri": "https://localhost:8080/"
        },
        "id": "KDycRgcvyUD-",
        "outputId": "0ef818eb-753d-4b61-eaf4-c28166bfc4a3"
      },
      "execution_count": 25,
      "outputs": [
        {
          "output_type": "stream",
          "name": "stdout",
          "text": [
            "600\n"
          ]
        }
      ]
    },
    {
      "cell_type": "code",
      "source": [
        "## Write a Python program to calculate the factorial of a number provided by the user using a while loop.\n",
        "num=int(input(\"Enter a positive Number for factorial\"))\n",
        "n=1\n",
        "fact=1\n",
        "if num==0:\n",
        "  print(\"Factorial of zero is=\",n)\n",
        "else:\n",
        "  while n<=num:\n",
        "    fact=fact*n\n",
        "    n=n+1\n",
        "  print(\"factorial of\",num,\"=\",fact)\n"
      ],
      "metadata": {
        "colab": {
          "base_uri": "https://localhost:8080/"
        },
        "id": "dT4abnRb2OR4",
        "outputId": "2ddd2267-e4c0-4dbe-ad64-1e5bc34ad266"
      },
      "execution_count": 65,
      "outputs": [
        {
          "output_type": "stream",
          "name": "stdout",
          "text": [
            "Enter a positive Number for factorial5\n",
            "factorial of 5 = 120\n"
          ]
        }
      ]
    },
    {
      "cell_type": "code",
      "source": [
        "\"\"\" Write a program to reverse a string using a while loop.\"\"\"\n",
        "a=\"Anupam\"\n",
        "b=len(a)\n",
        "n=0\n",
        "s=''\n",
        "while n<b:\n",
        "  s=s+a[b-1-n]\n",
        "  n=n+1\n",
        "print(s)"
      ],
      "metadata": {
        "colab": {
          "base_uri": "https://localhost:8080/"
        },
        "id": "DS2ZN6UAFLAC",
        "outputId": "8cc8e08d-bff1-4b13-902b-6746fbf25fea"
      },
      "execution_count": 67,
      "outputs": [
        {
          "output_type": "stream",
          "name": "stdout",
          "text": [
            "mapunA\n"
          ]
        }
      ]
    }
  ]
}